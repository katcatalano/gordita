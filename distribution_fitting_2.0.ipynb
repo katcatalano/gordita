{
 "cells": [
  {
   "cell_type": "code",
   "execution_count": 1,
   "metadata": {},
   "outputs": [],
   "source": [
    "#distribution fitting, solve for three parameters describing the skew normal distribution based on the \n",
    "#known parameters, min body size, max body size and median body size\n",
    "\n",
    "#load packages\n",
    "import numpy as np\n",
    "import scipy.special\n",
    "import scipy.optimize\n",
    "import scipy.stats\n",
    "import pandas as pd\n",
    "import matplotlib.pyplot as plt\n",
    "import math\n",
    "\n",
    "from scipy.optimize import fsolve\n"
   ]
  },
  {
   "cell_type": "code",
   "execution_count": 2,
   "metadata": {},
   "outputs": [
    {
     "name": "stderr",
     "output_type": "stream",
     "text": [
      "/local/home/katrinac/miniconda3/envs/python/lib/python3.7/site-packages/ipykernel_launcher.py:5: VisibleDeprecationWarning: Reading unicode strings without specifying the encoding argument is deprecated. Set the encoding, use None for the system default.\n",
      "  \"\"\"\n"
     ]
    }
   ],
   "source": [
    "filename = \"/local/home/katrinac/gordita/input//bar-on_results.csv\"\n",
    "data = np.genfromtxt(filename,\n",
    "    delimiter=',',\n",
    "    names=True,\n",
    "    dtype=None)\n",
    "\n",
    "data2 = pd.read_csv(filename,\n",
    "    sep=',', \n",
    "    comment='#') "
   ]
  },
  {
   "cell_type": "code",
   "execution_count": 3,
   "metadata": {},
   "outputs": [],
   "source": [
    "#define functions necessary\n",
    "\n",
    "#define a sign function because python doesn't have one?\n",
    "def sign(x):\n",
    "    if x > 0:\n",
    "        return 1.\n",
    "    elif x < 0:\n",
    "        return -1.\n",
    "    elif x == 0:\n",
    "        return 0.\n",
    "    else:\n",
    "        return x\n",
    "    \n",
    "#functions to estimate m0 given skew parameter\n",
    "def fun_delta(skew):\n",
    "    return skew/(math.sqrt(1+(skew**2)))\n",
    "\n",
    "def fun_gamma1(skew, delta):\n",
    "    return  (((4-math.pi)/2)*(((delta*math.sqrt(2/math.pi))**3)/((1-(2*delta**2)/math.pi)**(3/2))))\n",
    "\n",
    "def fun_sigmaz(muz):\n",
    "    return (math.sqrt((1-(muz**2))))\n",
    "\n",
    "def fun_muz(delta):\n",
    "    return math.sqrt((2/math.pi))*delta \n",
    "\n",
    "#all together for m0\n",
    "def fun_m0(skew):\n",
    "    delta = fun_delta(skew)\n",
    "    gamma1 = fun_gamma1(skew, delta)\n",
    "    muz= fun_muz(delta)\n",
    "    sigmaz = fun_sigmaz(muz)\n",
    "    return muz - ((gamma1*sigmaz)/2)-(sign(skew)/2)*math.exp((-2*math.pi))/abs(skew)\n",
    "\n",
    "\n"
   ]
  },
  {
   "cell_type": "code",
   "execution_count": 4,
   "metadata": {},
   "outputs": [
    {
     "data": {
      "text/html": [
       "<div>\n",
       "<style scoped>\n",
       "    .dataframe tbody tr th:only-of-type {\n",
       "        vertical-align: middle;\n",
       "    }\n",
       "\n",
       "    .dataframe tbody tr th {\n",
       "        vertical-align: top;\n",
       "    }\n",
       "\n",
       "    .dataframe thead th {\n",
       "        text-align: right;\n",
       "    }\n",
       "</style>\n",
       "<table border=\"1\" class=\"dataframe\">\n",
       "  <thead>\n",
       "    <tr style=\"text-align: right;\">\n",
       "      <th></th>\n",
       "      <th>taxa</th>\n",
       "      <th>min_bs_g</th>\n",
       "      <th>max_bs_g</th>\n",
       "      <th>bs_g</th>\n",
       "      <th>biomass_gC</th>\n",
       "      <th>abundance</th>\n",
       "      <th>diversity</th>\n",
       "    </tr>\n",
       "  </thead>\n",
       "  <tbody>\n",
       "    <tr>\n",
       "      <th>0</th>\n",
       "      <td>plants</td>\n",
       "      <td>2.000000e+02</td>\n",
       "      <td>3.000000e+06</td>\n",
       "      <td>1.500000e+05</td>\n",
       "      <td>1.500000e+17</td>\n",
       "      <td>3.000000e+12</td>\n",
       "      <td>400000.0</td>\n",
       "    </tr>\n",
       "    <tr>\n",
       "      <th>1</th>\n",
       "      <td>bacteria</td>\n",
       "      <td>4.000000e-14</td>\n",
       "      <td>4.000000e-11</td>\n",
       "      <td>2.600000e-14</td>\n",
       "      <td>7.339670e+16</td>\n",
       "      <td>2.854070e+30</td>\n",
       "      <td>10358.0</td>\n",
       "    </tr>\n",
       "    <tr>\n",
       "      <th>2</th>\n",
       "      <td>archaea</td>\n",
       "      <td>4.000000e-14</td>\n",
       "      <td>4.000000e-11</td>\n",
       "      <td>2.400000e-14</td>\n",
       "      <td>7.403230e+15</td>\n",
       "      <td>3.031050e+29</td>\n",
       "      <td>502.0</td>\n",
       "    </tr>\n",
       "    <tr>\n",
       "      <th>3</th>\n",
       "      <td>fungi</td>\n",
       "      <td>1.500000e-11</td>\n",
       "      <td>5.000000e+03</td>\n",
       "      <td>1.500000e-11</td>\n",
       "      <td>1.212680e+16</td>\n",
       "      <td>8.084550e+26</td>\n",
       "      <td>1000000.0</td>\n",
       "    </tr>\n",
       "    <tr>\n",
       "      <th>4</th>\n",
       "      <td>arthropods</td>\n",
       "      <td>1.000000e-07</td>\n",
       "      <td>9.000000e+02</td>\n",
       "      <td>8.200000e-06</td>\n",
       "      <td>1.151920e+15</td>\n",
       "      <td>1.411540e+20</td>\n",
       "      <td>943383.0</td>\n",
       "    </tr>\n",
       "  </tbody>\n",
       "</table>\n",
       "</div>"
      ],
      "text/plain": [
       "         taxa      min_bs_g      max_bs_g          bs_g    biomass_gC  \\\n",
       "0      plants  2.000000e+02  3.000000e+06  1.500000e+05  1.500000e+17   \n",
       "1    bacteria  4.000000e-14  4.000000e-11  2.600000e-14  7.339670e+16   \n",
       "2     archaea  4.000000e-14  4.000000e-11  2.400000e-14  7.403230e+15   \n",
       "3       fungi  1.500000e-11  5.000000e+03  1.500000e-11  1.212680e+16   \n",
       "4  arthropods  1.000000e-07  9.000000e+02  8.200000e-06  1.151920e+15   \n",
       "\n",
       "      abundance  diversity  \n",
       "0  3.000000e+12   400000.0  \n",
       "1  2.854070e+30    10358.0  \n",
       "2  3.031050e+29      502.0  \n",
       "3  8.084550e+26  1000000.0  \n",
       "4  1.411540e+20   943383.0  "
      ]
     },
     "execution_count": 4,
     "metadata": {},
     "output_type": "execute_result"
    }
   ],
   "source": [
    "data2.head()"
   ]
  },
  {
   "cell_type": "markdown",
   "metadata": {},
   "source": [
    "## Plants"
   ]
  },
  {
   "cell_type": "code",
   "execution_count": 6,
   "metadata": {},
   "outputs": [
    {
     "name": "stdout",
     "output_type": "stream",
     "text": [
      "5.176091259055681\n"
     ]
    }
   ],
   "source": [
    "plant_min= math.log10(data2.loc[data2['taxa'] == \"plants\", 'min_bs_g'].iloc[0])\n",
    "plant_max= math.log10(data2.loc[data2['taxa'] == \"plants\", 'max_bs_g'].iloc[0])\n",
    "plant_median= math.log10(data2.loc[data2['taxa'] == \"plants\", 'bs_g'].iloc[0])\n",
    "\n",
    "\n",
    "print(plant_median)\n"
   ]
  },
  {
   "cell_type": "code",
   "execution_count": 7,
   "metadata": {},
   "outputs": [
    {
     "name": "stderr",
     "output_type": "stream",
     "text": [
      "/local/home/katrinac/miniconda3/envs/python/lib/python3.7/site-packages/scipy/optimize/minpack.py:162: RuntimeWarning: The iteration is not making good progress, as measured by the \n",
      "  improvement from the last ten iterations.\n",
      "  warnings.warn(msg, RuntimeWarning)\n"
     ]
    }
   ],
   "source": [
    "from scipy.optimize import fsolve\n",
    "from scipy.stats import skewnorm\n",
    "\n",
    "def equations(p):\n",
    "    loc, scale, skew = p\n",
    "    \n",
    "    return ((loc + scale*fun_m0(skew))/skewnorm.pdf(x=plant_median, a=skew, loc=loc, scale=scale), \n",
    "            0.005/skewnorm.cdf(x=plant_min, a=skew, loc=loc, scale=scale), 0.995/skewnorm.cdf(x=plant_max, a=skew, loc=loc, scale=scale))\n",
    "\n",
    "solution = fsolve(equations, (20, 20, -0.9))\n",
    "\n",
    "\n"
   ]
  },
  {
   "cell_type": "code",
   "execution_count": 8,
   "metadata": {},
   "outputs": [
    {
     "name": "stdout",
     "output_type": "stream",
     "text": [
      "[ 4.09218201  7.94720669 -5.39105975]\n"
     ]
    }
   ],
   "source": [
    "loc=solution[0]\n",
    "scale=solution[1]\n",
    "skew=solution[2]\n",
    "print(solution)\n"
   ]
  },
  {
   "cell_type": "code",
   "execution_count": 9,
   "metadata": {},
   "outputs": [
    {
     "data": {
      "text/plain": [
       "[<matplotlib.lines.Line2D at 0x7f854b0cba90>]"
      ]
     },
     "execution_count": 9,
     "metadata": {},
     "output_type": "execute_result"
    },
    {
     "data": {
      "image/png": "[encoded data removed]",
      "text/plain": [
       "<Figure size 432x288 with 1 Axes>"
      ]
     },
     "metadata": {
      "needs_background": "light"
     },
     "output_type": "display_data"
    }
   ],
   "source": [
    "import matplotlib.pyplot as plt\n",
    "\n",
    "fig, ax = plt.subplots(1, 1)\n",
    "x = np.linspace(skewnorm.ppf(0.01, a=skew, loc=loc, scale=scale),\n",
    "                skewnorm.ppf(0.99, a=skew, loc=loc, scale=scale), 100)\n",
    "ax.plot(x, skewnorm.pdf(x, a=skew, loc=loc, scale=scale),\n",
    "        'r-', lw=5, alpha=0.6, label='skewnorm pdf')"
   ]
  },
  {
   "cell_type": "markdown",
   "metadata": {},
   "source": [
    "## Bacteria"
   ]
  },
  {
   "cell_type": "code",
   "execution_count": 10,
   "metadata": {},
   "outputs": [
    {
     "name": "stdout",
     "output_type": "stream",
     "text": [
      "-13.585026652029182\n"
     ]
    }
   ],
   "source": [
    "bacteria_min= math.log10(data2.loc[data2['taxa'] == \"bacteria\", 'min_bs_g'].iloc[0])\n",
    "bacteria_max= math.log10(data2.loc[data2['taxa'] == \"bacteria\", 'max_bs_g'].iloc[0])\n",
    "bacteria_median= math.log10(data2.loc[data2['taxa'] == \"bacteria\", 'bs_g'].iloc[0])\n",
    "\n",
    "\n",
    "print(bacteria_median)\n",
    "\n"
   ]
  },
  {
   "cell_type": "code",
   "execution_count": 11,
   "metadata": {},
   "outputs": [
    {
     "name": "stdout",
     "output_type": "stream",
     "text": [
      "[  7.53966331  15.13728904 -42.2173378 ]\n"
     ]
    }
   ],
   "source": [
    "from scipy.optimize import fsolve\n",
    "from scipy.stats import skewnorm\n",
    "\n",
    "def equations(p):\n",
    "    loc, scale, skew = p\n",
    "    \n",
    "    return ((loc + scale*fun_m0(skew))/skewnorm.pdf(x=bacteria_median, a=skew, loc=loc, scale=scale), \n",
    "            0.005/skewnorm.cdf(x=bacteria_min, a=skew, loc=loc, scale=scale), 0.995/skewnorm.cdf(x=bacteria_max, a=skew, loc=loc, scale=scale))\n",
    "\n",
    "solution = fsolve(equations, (20, 20, -0.9))\n",
    "\n",
    "print(solution)"
   ]
  },
  {
   "cell_type": "code",
   "execution_count": 12,
   "metadata": {
    "scrolled": true
   },
   "outputs": [
    {
     "data": {
      "text/plain": [
       "[<matplotlib.lines.Line2D at 0x7f854b365860>]"
      ]
     },
     "execution_count": 12,
     "metadata": {},
     "output_type": "execute_result"
    },
    {
     "data": {
      "image/png": "[encoded data removed]",
      "text/plain": [
       "<Figure size 432x288 with 1 Axes>"
      ]
     },
     "metadata": {
      "needs_background": "light"
     },
     "output_type": "display_data"
    }
   ],
   "source": [
    "loc=solution[0]\n",
    "scale=solution[1]\n",
    "skew=solution[2]\n",
    "import matplotlib.pyplot as plt\n",
    "\n",
    "fig, ax = plt.subplots(1, 1)\n",
    "x = np.linspace(skewnorm.ppf(0.01, a=skew, loc=loc, scale=scale),\n",
    "                skewnorm.ppf(0.99, a=skew, loc=loc, scale=scale), 100)\n",
    "ax.plot(x, skewnorm.pdf(x, a=skew, loc=loc, scale=scale),\n",
    "        'r-', lw=5, alpha=0.6, label='skewnorm pdf')"
   ]
  },
  {
   "cell_type": "markdown",
   "metadata": {},
   "source": [
    "## Archaea"
   ]
  },
  {
   "cell_type": "code",
   "execution_count": 13,
   "metadata": {},
   "outputs": [
    {
     "name": "stdout",
     "output_type": "stream",
     "text": [
      "-13.619788758288394\n"
     ]
    }
   ],
   "source": [
    "archaea_min= math.log10(data2.loc[data2['taxa'] == \"archaea\", 'min_bs_g'].iloc[0])\n",
    "archaea_max= math.log10(data2.loc[data2['taxa'] == \"archaea\", 'max_bs_g'].iloc[0])\n",
    "archaea_median= math.log10(data2.loc[data2['taxa'] == \"archaea\", 'bs_g'].iloc[0])\n",
    "\n",
    "\n",
    "print(archaea_median)\n",
    "\n"
   ]
  },
  {
   "cell_type": "code",
   "execution_count": 14,
   "metadata": {},
   "outputs": [
    {
     "name": "stdout",
     "output_type": "stream",
     "text": [
      "[  7.56227603  15.18268887 -42.32106968]\n"
     ]
    }
   ],
   "source": [
    "from scipy.optimize import fsolve\n",
    "from scipy.stats import skewnorm\n",
    "\n",
    "def equations(p):\n",
    "    loc, scale, skew = p\n",
    "    \n",
    "    return ((loc + scale*fun_m0(skew))/skewnorm.pdf(x=archaea_median, a=skew, loc=loc, scale=scale), \n",
    "            0.005/skewnorm.cdf(x=archaea_min, a=skew, loc=loc, scale=scale), 0.995/skewnorm.cdf(x=archaea_max, a=skew, loc=loc, scale=scale))\n",
    "\n",
    "solution = fsolve(equations, (20, 20, -0.9))\n",
    "\n",
    "print(solution)"
   ]
  },
  {
   "cell_type": "code",
   "execution_count": 15,
   "metadata": {},
   "outputs": [
    {
     "data": {
      "text/plain": [
       "[<matplotlib.lines.Line2D at 0x7f854afb24a8>]"
      ]
     },
     "execution_count": 15,
     "metadata": {},
     "output_type": "execute_result"
    },
    {
     "data": {
      "image/png": "[encoded data removed]",
      "text/plain": [
       "<Figure size 432x288 with 1 Axes>"
      ]
     },
     "metadata": {
      "needs_background": "light"
     },
     "output_type": "display_data"
    }
   ],
   "source": [
    "loc=solution[0]\n",
    "scale=solution[1]\n",
    "skew=solution[2]\n",
    "import matplotlib.pyplot as plt\n",
    "\n",
    "fig, ax = plt.subplots(1, 1)\n",
    "x = np.linspace(skewnorm.ppf(0.01, a=skew, loc=loc, scale=scale),\n",
    "                skewnorm.ppf(0.99, a=skew, loc=loc, scale=scale), 100)\n",
    "ax.plot(x, skewnorm.pdf(x, a=skew, loc=loc, scale=scale),\n",
    "        'r-', lw=5, alpha=0.6, label='skewnorm pdf')"
   ]
  },
  {
   "cell_type": "markdown",
   "metadata": {},
   "source": [
    "## Fungi"
   ]
  },
  {
   "cell_type": "code",
   "execution_count": 17,
   "metadata": {},
   "outputs": [
    {
     "name": "stdout",
     "output_type": "stream",
     "text": [
      "-10.823908740944319\n"
     ]
    }
   ],
   "source": [
    "fungi_min= math.log10(data2.loc[data2['taxa'] == \"fungi\", 'min_bs_g'].iloc[0])\n",
    "fungi_max= math.log10(data2.loc[data2['taxa'] == \"fungi\", 'max_bs_g'].iloc[0])\n",
    "fungi_median= math.log10(data2.loc[data2['taxa'] == \"fungi\", 'bs_g'].iloc[0])\n",
    "\n",
    "\n",
    "print(fungi_median)\n",
    "\n"
   ]
  },
  {
   "cell_type": "code",
   "execution_count": 18,
   "metadata": {},
   "outputs": [
    {
     "name": "stdout",
     "output_type": "stream",
     "text": [
      "[ 12.97312806  26.04574348 -53.55644904]\n"
     ]
    }
   ],
   "source": [
    "from scipy.optimize import fsolve\n",
    "from scipy.stats import skewnorm\n",
    "\n",
    "def equations(p):\n",
    "    loc, scale, skew = p\n",
    "    \n",
    "    return ((loc + scale*fun_m0(skew))/skewnorm.pdf(x=fungi_median, a=skew, loc=loc, scale=scale), \n",
    "            0.005/skewnorm.cdf(x=fungi_min, a=skew, loc=loc, scale=scale), 0.995/skewnorm.cdf(x=fungi_max, a=skew, loc=loc, scale=scale))\n",
    "\n",
    "solution = fsolve(equations, (20, 20, -0.9))\n",
    "\n",
    "print(solution)"
   ]
  },
  {
   "cell_type": "code",
   "execution_count": 19,
   "metadata": {},
   "outputs": [
    {
     "data": {
      "text/plain": [
       "[<matplotlib.lines.Line2D at 0x7f854af2f710>]"
      ]
     },
     "execution_count": 19,
     "metadata": {},
     "output_type": "execute_result"
    },
    {
     "data": {
      "image/png": "[encoded data removed]",
      "text/plain": [
       "<Figure size 432x288 with 1 Axes>"
      ]
     },
     "metadata": {
      "needs_background": "light"
     },
     "output_type": "display_data"
    }
   ],
   "source": [
    "loc=solution[0]\n",
    "scale=solution[1]\n",
    "skew=solution[2]\n",
    "import matplotlib.pyplot as plt\n",
    "\n",
    "fig, ax = plt.subplots(1, 1)\n",
    "x = np.linspace(skewnorm.ppf(0.01, a=skew, loc=loc, scale=scale),\n",
    "                skewnorm.ppf(0.99, a=skew, loc=loc, scale=scale), 100)\n",
    "ax.plot(x, skewnorm.pdf(x, a=skew, loc=loc, scale=scale),\n",
    "        'r-', lw=5, alpha=0.6, label='skewnorm pdf')"
   ]
  },
  {
   "cell_type": "markdown",
   "metadata": {},
   "source": [
    "## Arthropods"
   ]
  },
  {
   "cell_type": "code",
   "execution_count": 20,
   "metadata": {},
   "outputs": [
    {
     "name": "stdout",
     "output_type": "stream",
     "text": [
      "-5.086186147616283\n"
     ]
    }
   ],
   "source": [
    "arthropods_min= math.log10(data2.loc[data2['taxa'] == \"arthropods\", 'min_bs_g'].iloc[0])\n",
    "arthropods_max= math.log10(data2.loc[data2['taxa'] == \"arthropods\", 'max_bs_g'].iloc[0])\n",
    "arthropods_median= math.log10(data2.loc[data2['taxa'] == \"arthropods\", 'bs_g'].iloc[0])\n",
    "\n",
    "\n",
    "print(arthropods_median)\n",
    "\n"
   ]
  },
  {
   "cell_type": "code",
   "execution_count": 21,
   "metadata": {},
   "outputs": [
    {
     "name": "stdout",
     "output_type": "stream",
     "text": [
      "[  8.60702627  17.25726687 -25.60014772]\n"
     ]
    }
   ],
   "source": [
    "from scipy.optimize import fsolve\n",
    "from scipy.stats import skewnorm\n",
    "\n",
    "def equations(p):\n",
    "    loc, scale, skew = p\n",
    "    \n",
    "    return ((loc + scale*fun_m0(skew))/skewnorm.pdf(x=arthropods_median, a=skew, loc=loc, scale=scale), \n",
    "            0.005/skewnorm.cdf(x=arthropods_min, a=skew, loc=loc, scale=scale), 0.995/skewnorm.cdf(x=arthropods_max, a=skew, loc=loc, scale=scale))\n",
    "\n",
    "solution = fsolve(equations, (20, 20, -0.9))\n",
    "\n",
    "print(solution)"
   ]
  },
  {
   "cell_type": "code",
   "execution_count": 22,
   "metadata": {},
   "outputs": [
    {
     "data": {
      "text/plain": [
       "[<matplotlib.lines.Line2D at 0x7f854ae95588>]"
      ]
     },
     "execution_count": 22,
     "metadata": {},
     "output_type": "execute_result"
    },
    {
     "data": {
      "image/png": "[encoded data removed]",
      "text/plain": [
       "<Figure size 432x288 with 1 Axes>"
      ]
     },
     "metadata": {
      "needs_background": "light"
     },
     "output_type": "display_data"
    }
   ],
   "source": [
    "loc=solution[0]\n",
    "scale=solution[1]\n",
    "skew=solution[2]\n",
    "import matplotlib.pyplot as plt\n",
    "\n",
    "fig, ax = plt.subplots(1, 1)\n",
    "x = np.linspace(skewnorm.ppf(0.01, a=skew, loc=loc, scale=scale),\n",
    "                skewnorm.ppf(0.99, a=skew, loc=loc, scale=scale), 100)\n",
    "ax.plot(x, skewnorm.pdf(x, a=skew, loc=loc, scale=scale),\n",
    "        'r-', lw=5, alpha=0.6, label='skewnorm pdf')"
   ]
  },
  {
   "cell_type": "markdown",
   "metadata": {},
   "source": [
    "## Annelids"
   ]
  },
  {
   "cell_type": "code",
   "execution_count": 23,
   "metadata": {},
   "outputs": [
    {
     "name": "stdout",
     "output_type": "stream",
     "text": [
      "-3.585026652029182\n"
     ]
    }
   ],
   "source": [
    "annelids_min= math.log10(data2.loc[data2['taxa'] == \"annelids\", 'min_bs_g'].iloc[0])\n",
    "annelids_max= math.log10(data2.loc[data2['taxa'] == \"annelids\", 'max_bs_g'].iloc[0])\n",
    "annelids_median= math.log10(data2.loc[data2['taxa'] == \"annelids\", 'bs_g'].iloc[0])\n",
    "\n",
    "\n",
    "print(annelids_median)\n",
    "\n"
   ]
  },
  {
   "cell_type": "code",
   "execution_count": 24,
   "metadata": {},
   "outputs": [
    {
     "name": "stdout",
     "output_type": "stream",
     "text": [
      "[  7.1406481   14.33397181 -39.27494994]\n"
     ]
    }
   ],
   "source": [
    "from scipy.optimize import fsolve\n",
    "from scipy.stats import skewnorm\n",
    "\n",
    "def equations(p):\n",
    "    loc, scale, skew = p\n",
    "    \n",
    "    return ((loc + scale*fun_m0(skew))/skewnorm.pdf(x=annelids_median, a=skew, loc=loc, scale=scale), \n",
    "            0.005/skewnorm.cdf(x=annelids_min, a=skew, loc=loc, scale=scale), 0.995/skewnorm.cdf(x=annelids_max, a=skew, loc=loc, scale=scale))\n",
    "\n",
    "solution = fsolve(equations, (20, 20, -0.9))\n",
    "\n",
    "print(solution)"
   ]
  },
  {
   "cell_type": "code",
   "execution_count": 25,
   "metadata": {},
   "outputs": [
    {
     "data": {
      "text/plain": [
       "[<matplotlib.lines.Line2D at 0x7f854ae731d0>]"
      ]
     },
     "execution_count": 25,
     "metadata": {},
     "output_type": "execute_result"
    },
    {
     "data": {
      "image/png": "[encoded data removed]",
      "text/plain": [
       "<Figure size 432x288 with 1 Axes>"
      ]
     },
     "metadata": {
      "needs_background": "light"
     },
     "output_type": "display_data"
    }
   ],
   "source": [
    "loc=solution[0]\n",
    "scale=solution[1]\n",
    "skew=solution[2]\n",
    "import matplotlib.pyplot as plt\n",
    "\n",
    "fig, ax = plt.subplots(1, 1)\n",
    "x = np.linspace(skewnorm.ppf(0.01, a=skew, loc=loc, scale=scale),\n",
    "                skewnorm.ppf(0.99, a=skew, loc=loc, scale=scale), 100)\n",
    "ax.plot(x, skewnorm.pdf(x, a=skew, loc=loc, scale=scale),\n",
    "        'r-', lw=5, alpha=0.6, label='skewnorm pdf')"
   ]
  },
  {
   "cell_type": "markdown",
   "metadata": {},
   "source": [
    "## Molluscs"
   ]
  },
  {
   "cell_type": "code",
   "execution_count": 26,
   "metadata": {},
   "outputs": [
    {
     "name": "stdout",
     "output_type": "stream",
     "text": [
      "-3.431798275933005\n"
     ]
    }
   ],
   "source": [
    "molluscs_min= math.log10(data2.loc[data2['taxa'] == \"molluscs\", 'min_bs_g'].iloc[0])\n",
    "molluscs_max= math.log10(data2.loc[data2['taxa'] == \"molluscs\", 'max_bs_g'].iloc[0])\n",
    "molluscs_median= math.log10(data2.loc[data2['taxa'] == \"molluscs\", 'bs_g'].iloc[0])\n",
    "\n",
    "\n",
    "print(molluscs_median)\n",
    "\n"
   ]
  },
  {
   "cell_type": "code",
   "execution_count": 27,
   "metadata": {},
   "outputs": [
    {
     "name": "stdout",
     "output_type": "stream",
     "text": [
      "[  7.95264408  15.95838399 -34.02107775]\n"
     ]
    }
   ],
   "source": [
    "from scipy.optimize import fsolve\n",
    "from scipy.stats import skewnorm\n",
    "\n",
    "def equations(p):\n",
    "    loc, scale, skew = p\n",
    "    \n",
    "    return ((loc + scale*fun_m0(skew))/skewnorm.pdf(x=molluscs_median, a=skew, loc=loc, scale=scale), \n",
    "            0.005/skewnorm.cdf(x=molluscs_min, a=skew, loc=loc, scale=scale), 0.995/skewnorm.cdf(x=molluscs_max, a=skew, loc=loc, scale=scale))\n",
    "\n",
    "solution = fsolve(equations, (20, 20, -0.9))\n",
    "\n",
    "print(solution)"
   ]
  },
  {
   "cell_type": "code",
   "execution_count": 28,
   "metadata": {},
   "outputs": [
    {
     "data": {
      "text/plain": [
       "[<matplotlib.lines.Line2D at 0x7f854add14a8>]"
      ]
     },
     "execution_count": 28,
     "metadata": {},
     "output_type": "execute_result"
    },
    {
     "data": {
      "image/png": "[encoded data removed]",
      "text/plain": [
       "<Figure size 432x288 with 1 Axes>"
      ]
     },
     "metadata": {
      "needs_background": "light"
     },
     "output_type": "display_data"
    }
   ],
   "source": [
    "loc=solution[0]\n",
    "scale=solution[1]\n",
    "skew=solution[2]\n",
    "import matplotlib.pyplot as plt\n",
    "\n",
    "fig, ax = plt.subplots(1, 1)\n",
    "x = np.linspace(skewnorm.ppf(0.01, a=skew, loc=loc, scale=scale),\n",
    "                skewnorm.ppf(0.99, a=skew, loc=loc, scale=scale), 100)\n",
    "ax.plot(x, skewnorm.pdf(x, a=skew, loc=loc, scale=scale),\n",
    "        'r-', lw=5, alpha=0.6, label='skewnorm pdf')"
   ]
  },
  {
   "cell_type": "markdown",
   "metadata": {},
   "source": [
    "## Cnidarians"
   ]
  },
  {
   "cell_type": "code",
   "execution_count": 29,
   "metadata": {},
   "outputs": [
    {
     "name": "stdout",
     "output_type": "stream",
     "text": [
      "-2.337242168318426\n"
     ]
    }
   ],
   "source": [
    "cnidarians_min= math.log10(data2.loc[data2['taxa'] == \"cnidarians\", 'min_bs_g'].iloc[0])\n",
    "cnidarians_max= math.log10(data2.loc[data2['taxa'] == \"cnidarians\", 'max_bs_g'].iloc[0])\n",
    "cnidarians_median= math.log10(data2.loc[data2['taxa'] == \"cnidarians\", 'bs_g'].iloc[0])\n",
    "\n",
    "\n",
    "print(cnidarians_median)\n",
    "\n"
   ]
  },
  {
   "cell_type": "code",
   "execution_count": 30,
   "metadata": {},
   "outputs": [
    {
     "name": "stdout",
     "output_type": "stream",
     "text": [
      "[ 10.11849452  20.29820005 -30.52158796]\n"
     ]
    }
   ],
   "source": [
    "from scipy.optimize import fsolve\n",
    "from scipy.stats import skewnorm\n",
    "\n",
    "def equations(p):\n",
    "    loc, scale, skew = p\n",
    "    \n",
    "    return ((loc + scale*fun_m0(skew))/skewnorm.pdf(x=cnidarians_median, a=skew, loc=loc, scale=scale), \n",
    "            0.005/skewnorm.cdf(x=cnidarians_min, a=skew, loc=loc, scale=scale), 0.995/skewnorm.cdf(x=cnidarians_max, a=skew, loc=loc, scale=scale))\n",
    "\n",
    "solution = fsolve(equations, (20, 20, -1))\n",
    "\n",
    "print(solution)"
   ]
  },
  {
   "cell_type": "code",
   "execution_count": 31,
   "metadata": {},
   "outputs": [
    {
     "data": {
      "text/plain": [
       "[<matplotlib.lines.Line2D at 0x7f854adb00f0>]"
      ]
     },
     "execution_count": 31,
     "metadata": {},
     "output_type": "execute_result"
    },
    {
     "data": {
      "image/png": "[encoded data removed]",
      "text/plain": [
       "<Figure size 432x288 with 1 Axes>"
      ]
     },
     "metadata": {
      "needs_background": "light"
     },
     "output_type": "display_data"
    }
   ],
   "source": [
    "loc=solution[0]\n",
    "scale=solution[1]\n",
    "skew=solution[2]\n",
    "import matplotlib.pyplot as plt\n",
    "\n",
    "fig, ax = plt.subplots(1, 1)\n",
    "x = np.linspace(skewnorm.ppf(0.01, a=skew, loc=loc, scale=scale),\n",
    "                skewnorm.ppf(0.99, a=skew, loc=loc, scale=scale), 100)\n",
    "ax.plot(x, skewnorm.pdf(x, a=skew, loc=loc, scale=scale),\n",
    "        'r-', lw=5, alpha=0.6, label='skewnorm pdf')"
   ]
  },
  {
   "cell_type": "code",
   "execution_count": null,
   "metadata": {},
   "outputs": [],
   "source": []
  }
 ],
 "metadata": {
  "kernelspec": {
   "display_name": "Python 3",
   "language": "python",
   "name": "python3"
  },
  "language_info": {
   "codemirror_mode": {
    "name": "ipython",
    "version": 3
   },
   "file_extension": ".py",
   "mimetype": "text/x-python",
   "name": "python",
   "nbconvert_exporter": "python",
   "pygments_lexer": "ipython3",
   "version": "3.7.3"
  }
 },
 "nbformat": 4,
 "nbformat_minor": 2
}
