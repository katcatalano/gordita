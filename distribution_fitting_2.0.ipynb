{
 "cells": [
  {
   "cell_type": "code",
   "execution_count": 39,
   "metadata": {},
   "outputs": [],
   "source": [
    "#distribution fitting, solve for three parameters describing the skew normal distribution based on the \n",
    "#known parameters, min body size, max body size and median body size\n",
    "\n",
    "#load packages\n",
    "import numpy as np\n",
    "import scipy.special\n",
    "import scipy.optimize\n",
    "import scipy.stats\n",
    "import pandas as pd\n",
    "import matplotlib.pyplot as plt\n",
    "import math\n",
    "\n",
    "from scipy.optimize import fsolve\n"
   ]
  },
  {
   "cell_type": "code",
   "execution_count": 21,
   "metadata": {},
   "outputs": [
    {
     "name": "stderr",
     "output_type": "stream",
     "text": [
      "/local/home/katrinac/miniconda3/envs/r/lib/python3.6/site-packages/ipykernel_launcher.py:5: VisibleDeprecationWarning: Reading unicode strings without specifying the encoding argument is deprecated. Set the encoding, use None for the system default.\n",
      "  \"\"\"\n"
     ]
    }
   ],
   "source": [
    "filename = \"/local/home/katrinac/gordita/input//bar-on_results.csv\"\n",
    "data = np.genfromtxt(filename,\n",
    "    delimiter=',',\n",
    "    names=True,\n",
    "    dtype=None)\n",
    "\n",
    "data2 = pd.read_csv(filename,\n",
    "    sep=',', \n",
    "    comment='#') "
   ]
  },
  {
   "cell_type": "code",
   "execution_count": 108,
   "metadata": {},
   "outputs": [
    {
     "name": "stdout",
     "output_type": "stream",
     "text": [
      "150000.0\n"
     ]
    }
   ],
   "source": [
    "plant_min= data2.loc[data2['taxa'] == \"plants\", 'min_bs_g'].iloc[0] \n",
    "plant_max= data2.loc[data2['taxa'] == \"plants\", 'max_bs_g'].iloc[0] \n",
    "plant_median= data2.loc[data2['taxa'] == \"plants\", 'bs_g'].iloc[0] \n",
    "\n",
    "\n",
    "print(plant_median)"
   ]
  },
  {
   "cell_type": "code",
   "execution_count": 84,
   "metadata": {},
   "outputs": [],
   "source": [
    "#define functions necessary\n",
    "\n",
    "#define a sign function because python doesn't have one?\n",
    "def sign(x):\n",
    "    if x > 0:\n",
    "        return 1.\n",
    "    elif x < 0:\n",
    "        return -1.\n",
    "    elif x == 0:\n",
    "        return 0.\n",
    "    else:\n",
    "        return x\n",
    "    \n",
    "#functions to estimate m0 given skew parameter\n",
    "def fun_delta(skew):\n",
    "    return skew/(math.sqrt(1+skew**2))\n",
    "\n",
    "def fun_gamma1(skew, delta):\n",
    "    return  (((4-math.pi)/2)*(((delta*math.sqrt(2/math.pi))**3)/((1-2*delta**2)/math.pi)**(3/2)))\n",
    "\n",
    "def fun_sigmaz(muz):\n",
    "    return (math.sqrt((1-muz**2)))\n",
    "\n",
    "def fun_muz(delta):\n",
    "    return math.sqrt((2/math.pi))*delta \n",
    "\n",
    "#all together for m0\n",
    "def fun_m0(skew):\n",
    "    delta = fun_delta(skew)\n",
    "    gamma1 = fun_gamma1(skew, delta)\n",
    "    muz= fun_muz(delta)\n",
    "    sigmaz = fun_sigmaz(muz)\n",
    "    return muz - ((gamma1*sigmaz)/2)-(sign(skew)/2)*math.exp((-2*math.pi))/abs(skew)\n",
    "\n"
   ]
  },
  {
   "cell_type": "code",
   "execution_count": 101,
   "metadata": {},
   "outputs": [
    {
     "name": "stderr",
     "output_type": "stream",
     "text": [
      "/local/home/katrinac/miniconda3/envs/r/lib/python3.6/site-packages/ipykernel_launcher.py:7: RuntimeWarning: divide by zero encountered in double_scalars\n",
      "  import sys\n"
     ]
    }
   ],
   "source": [
    "from scipy.optimize import fsolve\n",
    "from scipy.stats import skewnorm\n",
    "\n",
    "def equations(p):\n",
    "    loc, scale, skew = p\n",
    "    \n",
    "    return ((loc + scale*fun_m0(skew))/skewnorm.pdf(plant_median, skew, loc, scale), \n",
    "            0.025/skewnorm.cdf(plant_min, loc, scale, skew), 0.975/skewnorm.cdf(plant_max, loc, scale, skew))\n",
    "\n",
    "solution = fsolve(equations, (1, 1, -0.9))\n",
    "\n",
    "\n"
   ]
  },
  {
   "cell_type": "code",
   "execution_count": 102,
   "metadata": {},
   "outputs": [
    {
     "name": "stdout",
     "output_type": "stream",
     "text": [
      "[ 1.   1.  -0.9]\n"
     ]
    }
   ],
   "source": [
    "print(z)"
   ]
  },
  {
   "cell_type": "code",
   "execution_count": 95,
   "metadata": {},
   "outputs": [
    {
     "name": "stdout",
     "output_type": "stream",
     "text": [
      "0    200.0\n",
      "Name: min_bs_g, dtype: float64\n"
     ]
    }
   ],
   "source": [
    "skew=-0.5\n",
    "loc=10\n",
    "scale=4\n",
    "x <- skewnorm.pdf(plant_median, skew, loc, scale)\n",
    "\n",
    "print(x)"
   ]
  },
  {
   "cell_type": "code",
   "execution_count": 81,
   "metadata": {},
   "outputs": [
    {
     "data": {
      "text/plain": [
       "3.985425327699421"
      ]
     },
     "execution_count": 81,
     "metadata": {},
     "output_type": "execute_result"
    }
   ],
   "source": [
    "skew=-0.9\n",
    "delta = fun_delta(skew)\n",
    "gamma1 = fun_gamma1(skew, delta)\n",
    "muz= fun_muz(delta)\n",
    "sigmaz = fun_sigmaz(muz)\n",
    "\n",
    "fun_m0(muz, gamma1, sigmaz, skew)"
   ]
  },
  {
   "cell_type": "code",
   "execution_count": null,
   "metadata": {},
   "outputs": [],
   "source": []
  },
  {
   "cell_type": "code",
   "execution_count": 65,
   "metadata": {},
   "outputs": [
    {
     "ename": "ValueError",
     "evalue": "math domain error",
     "output_type": "error",
     "traceback": [
      "\u001b[0;31m---------------------------------------------------------------------------\u001b[0m",
      "\u001b[0;31mValueError\u001b[0m                                Traceback (most recent call last)",
      "\u001b[0;32m<ipython-input-65-762ed10f3df4>\u001b[0m in \u001b[0;36m<module>\u001b[0;34m\u001b[0m\n\u001b[1;32m      1\u001b[0m \u001b[0;31m#math.sqrt((1-muz**2))\u001b[0m\u001b[0;34m\u001b[0m\u001b[0;34m\u001b[0m\u001b[0;34m\u001b[0m\u001b[0m\n\u001b[0;32m----> 2\u001b[0;31m \u001b[0mmath\u001b[0m\u001b[0;34m.\u001b[0m\u001b[0msqrt\u001b[0m\u001b[0;34m(\u001b[0m\u001b[0;36m1\u001b[0m\u001b[0;34m-\u001b[0m\u001b[0;36m10\u001b[0m\u001b[0;34m**\u001b[0m\u001b[0;36m2\u001b[0m\u001b[0;34m)\u001b[0m\u001b[0;34m\u001b[0m\u001b[0;34m\u001b[0m\u001b[0m\n\u001b[0m",
      "\u001b[0;31mValueError\u001b[0m: math domain error"
     ]
    }
   ],
   "source": [
    "#math.sqrt((1-muz**2))\n"
   ]
  },
  {
   "cell_type": "code",
   "execution_count": null,
   "metadata": {},
   "outputs": [],
   "source": [
    "10 = c + ba^2\n",
    "\n",
    "6 = c + ba^4\n",
    "\n",
    "5 = c + ba^5\n",
    "\n",
    "def equations(p):\n",
    "    a, b, c = p\n",
    "    return (c + b*abs(a)**2 - 10, c + b*abs(a)**4 - 6, c + b*abs(a)**5 - 5)\n",
    "\n",
    "a,b,c = fsolve(equations, (1, 1, 1))\n",
    "\n",
    "print a,b,c\n",
    "print equations((a,b,c))"
   ]
  },
  {
   "cell_type": "code",
   "execution_count": 35,
   "metadata": {},
   "outputs": [],
   "source": [
    "from scipy.stats import skewnorm\n",
    "a = 4\n",
    "mean, var, skew, kurt = skewnorm.stats(a, moments='mvsk')"
   ]
  },
  {
   "cell_type": "code",
   "execution_count": 38,
   "metadata": {},
   "outputs": [
    {
     "name": "stdout",
     "output_type": "stream",
     "text": [
      "0.7740617226446519\n",
      "0.40082844953639396\n"
     ]
    }
   ],
   "source": [
    "print(mean)\n",
    "print(var)"
   ]
  },
  {
   "cell_type": "code",
   "execution_count": null,
   "metadata": {},
   "outputs": [],
   "source": []
  }
 ],
 "metadata": {
  "kernelspec": {
   "display_name": "Python 3",
   "language": "python",
   "name": "python3"
  },
  "language_info": {
   "codemirror_mode": {
    "name": "ipython",
    "version": 3
   },
   "file_extension": ".py",
   "mimetype": "text/x-python",
   "name": "python",
   "nbconvert_exporter": "python",
   "pygments_lexer": "ipython3",
   "version": "3.6.8"
  }
 },
 "nbformat": 4,
 "nbformat_minor": 2
}
